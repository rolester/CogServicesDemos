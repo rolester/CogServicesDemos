{
 "cells": [
  {
   "cell_type": "code",
   "execution_count": 11,
   "source": [
    "#! pip install azure-cognitiveservices-speech\r\n",
    "#! pip install matplotlib --upgrade\r\n",
    "#! pip install PyQt5"
   ],
   "outputs": [
    {
     "output_type": "stream",
     "name": "stdout",
     "text": [
      "Defaulting to user installation because normal site-packages is not writeable\n",
      "Requirement already satisfied: azure-cognitiveservices-speech in c:\\users\\rolester\\appdata\\roaming\\python\\python37\\site-packages (1.17.0)\n"
     ]
    },
    {
     "output_type": "stream",
     "name": "stderr",
     "text": [
      "WARNING: You are using pip version 20.1.1; however, version 21.1.2 is available.\n",
      "You should consider upgrading via the 'c:\\program files (x86)\\microsoft visual studio\\shared\\python37_64\\python.exe -m pip install --upgrade pip' command.\n"
     ]
    }
   ],
   "metadata": {}
  },
  {
   "cell_type": "code",
   "execution_count": 4,
   "source": [
    "from azure.cognitiveservices.speech import AudioDataStream, SpeechConfig, SpeechSynthesizer, SpeechSynthesisOutputFormat\r\n",
    "from azure.cognitiveservices.speech.audio import AudioOutputConfig\r\n",
    "import matplotlib.pyplot as plt\r\n",
    "import pandas as pd\r\n",
    "from PIL import Image\r\n",
    "import numpy as np\r\n",
    "import PyQt5\r\n",
    "%matplotlib qt\r\n"
   ],
   "outputs": [],
   "metadata": {}
  },
  {
   "cell_type": "code",
   "execution_count": 5,
   "source": [
    "keyfile = open(\"subkeyTextToSpeech.key\",\"r\") \r\n",
    "speech_config = SpeechConfig(subscription=keyfile.readline(), region=\"westeurope\")"
   ],
   "outputs": [],
   "metadata": {}
  },
  {
   "cell_type": "code",
   "execution_count": 6,
   "source": [
    "audio_config = AudioOutputConfig(use_default_speaker=True)"
   ],
   "outputs": [],
   "metadata": {}
  },
  {
   "cell_type": "code",
   "execution_count": 7,
   "source": [
    "def showActorImage (stringin):\r\n",
    "    ImageAddress = stringin\r\n",
    "    ImageItself = Image.open(ImageAddress)\r\n",
    "    ImageNumpyFormat = np.asarray(ImageItself)\r\n",
    "    plt.imshow(ImageNumpyFormat)\r\n",
    "    plt.pause(.1) # pause how many seconds\r\n"
   ],
   "outputs": [],
   "metadata": {}
  },
  {
   "cell_type": "code",
   "execution_count": 22,
   "source": [
    "def Aria( stringin , style=\"cheerful\"):\r\n",
    "\r\n",
    "    ssmlheadbuffy = \"<speak version=\\\"1.0\\\" xmlns=\\\"https://www.w3.org/2001/10/synthesis\\\" xmlns:mstts=\\\"https://www.w3.org/2001/mstts\\\"    xml:lang=\\\"en-US\\\">\\r<voice name=\\\"en-US-AriaNeural\\\">\\r<mstts:express-as  style=\\\"\" + style + \"\\\">\"\r\n",
    "    ssmltailbuffy = \"\\r</mstts:express-as>\\r</voice>\\r</speak>\"\r\n",
    "\r\n",
    "    talk = (ssmlheadbuffy + stringin + ssmltailbuffy)\r\n",
    "\r\n",
    "    print(str.replace(talk,\"\\r\",\"\"))\r\n",
    "\r\n",
    "    synthesizer.speak_ssml_async(talk).get()\r\n",
    "\r\n",
    "    return 1;\r\n"
   ],
   "outputs": [],
   "metadata": {}
  },
  {
   "cell_type": "code",
   "execution_count": 9,
   "source": [
    "def Ryan( stringin ):\r\n",
    "\r\n",
    "    ssmlheadgiles = \"<speak version=\\\"1.0\\\" xmlns=\\\"https://www.w3.org/2001/10/synthesis\\\" xmlns:mstts=\\\"https://www.w3.org/2001/mstts\\\" xml:lang=\\\"en-US\\\">\\r<voice name=\\\"en-GB-RyanNeural\\\">\\r\"\r\n",
    "    ssmltailgiles = \"\\r</voice>\\r</speak>\"\r\n",
    "\r\n",
    "    synthesizer.speak_ssml_async(ssmlheadgiles + stringin + ssmltailgiles).get()\r\n",
    "    return 1;\r\n"
   ],
   "outputs": [],
   "metadata": {}
  },
  {
   "cell_type": "code",
   "execution_count": 10,
   "source": [
    "def Jenny( stringin ):\r\n",
    "\r\n",
    "    ssmlheadwillow = \"<speak version=\\\"1.0\\\" xmlns=\\\"https://www.w3.org/2001/10/synthesis\\\" xmlns:mstts=\\\"https://www.w3.org/2001/mstts\\\" xml:lang=\\\"en-US\\\">\\r<voice name=\\\"en-US-JennyNeural\\\">\\r<mstts:express-as style=\\\"chat\\\">\"\r\n",
    "    ssmltailwillow = \"\\r</mstts:express-as>\\r</voice>\\r</speak>\"\r\n",
    "\r\n",
    "    synthesizer.speak_ssml_async(ssmlheadwillow + stringin + ssmltailwillow).get()\r\n",
    "\r\n",
    "    return 1;\r\n"
   ],
   "outputs": [],
   "metadata": {}
  },
  {
   "cell_type": "code",
   "execution_count": 11,
   "source": [
    "def Connor( stringin ):\r\n",
    "\r\n",
    "    ssmlheadNarrator = \"<speak version=\\\"1.0\\\" xmlns=\\\"https://www.w3.org/2001/10/synthesis\\\" xmlns:mstts=\\\"https://www.w3.org/2001/mstts\\\" xml:lang=\\\"en-US\\\">\\r<voice name=\\\"en-IE-ConnorNeural\\\">\\r<mstts:express-as style=\\\"affectionate\\\">\"\r\n",
    "    ssmltailNarrator = \"\\r</mstts:express-as>\\r</voice>\\r</speak>\"\r\n",
    "\r\n",
    "    synthesizer.speak_ssml_async(ssmlheadNarrator + stringin + ssmltailNarrator).get()\r\n",
    "    return 1;"
   ],
   "outputs": [],
   "metadata": {}
  },
  {
   "cell_type": "code",
   "execution_count": 12,
   "source": [
    "synthesizer = SpeechSynthesizer(speech_config=speech_config, audio_config=audio_config)\r\n",
    "speech_config.set_property_by_name(\"SpeechServiceResponse_Synthesis_WordBoundaryEnabled\", \"false\")"
   ],
   "outputs": [],
   "metadata": {}
  },
  {
   "cell_type": "code",
   "execution_count": 34,
   "source": [
    "Aria(\"Hi everyone, my name is Aria\")\r\n",
    "Ryan(\"I am Ryan and I come from London. I like tea and cricket!\")\r\n",
    "Jenny(\"Hey all, Jenny here, living in San Francisco\")\r\n",
    "Connor(\"and I am Connor and I live in Cork.\")\r\n",
    "\r\n"
   ],
   "outputs": [
    {
     "output_type": "stream",
     "name": "stdout",
     "text": [
      "<speak version=\"1.0\" xmlns=\"https://www.w3.org/2001/10/synthesis\" xmlns:mstts=\"https://www.w3.org/2001/mstts\"    xml:lang=\"en-US\"><voice name=\"en-US-AriaNeural\"><mstts:express-as  style=\"cheerful\">Hi everyone, my name is Aria</mstts:express-as></voice></speak>\n"
     ]
    },
    {
     "output_type": "execute_result",
     "data": {
      "text/plain": [
       "1"
      ]
     },
     "metadata": {},
     "execution_count": 34
    }
   ],
   "metadata": {}
  },
  {
   "cell_type": "code",
   "execution_count": 17,
   "source": [
    "def transAria( stringin , style):\r\n",
    "    subscription_keytrans = open(\"subkeyTrans.key\",\"r\").readline()\r\n",
    "    location = \"northeurope\"\r\n",
    "    endpoint = \"https://api.cognitive.microsofttranslator.com\"\r\n",
    "\r\n",
    "    #Translate Text\r\n",
    "    import requests, uuid, json\r\n",
    "\r\n",
    "    path = '/translate'\r\n",
    "    constructed_url = endpoint + path\r\n",
    "\r\n",
    "    params = {\r\n",
    "        'api-version': '3.0',\r\n",
    "        'from': 'en',\r\n",
    "        'to': ['zh-Hant']\r\n",
    "    }\r\n",
    "    constructed_url = endpoint + path\r\n",
    "\r\n",
    "    headers = {\r\n",
    "        'Ocp-Apim-Subscription-Key': subscription_keytrans,\r\n",
    "        'Ocp-Apim-Subscription-Region': location,\r\n",
    "        'Content-type': 'application/json',\r\n",
    "        'X-ClientTraceId': str(uuid.uuid4())\r\n",
    "    }\r\n",
    "\r\n",
    "    # You can pass more than one object in body.\r\n",
    "    body = [{\r\n",
    "        'text': stringin\r\n",
    "    }]\r\n",
    "\r\n",
    "    request = requests.post(constructed_url, params=params, headers=headers, json=body)\r\n",
    "    response = request.json()[0]['translations'][0]['text']\r\n",
    "\r\n",
    "    ssmlheadbuffy = \"<speak version=\\\"1.0\\\" xmlns=\\\"https://www.w3.org/2001/10/synthesis\\\" xmlns:mstts=\\\"https://www.w3.org/2001/mstts\\\"    xml:lang=\\\"zn-CN\\\">\\r\\n<voice name=\\\"zh-CN-XiaoxiaoNeural\\\">\\r\\n<mstts:express-as style=\\\"\" + style + \"\\\">\"\r\n",
    "    ssmltailbuffy = \"\\r</mstts:express-as>\\r\\n</voice>\\r\\n</speak>\"\r\n",
    "\r\n",
    "    synthesizer.speak_ssml_async(ssmlheadbuffy + response + ssmltailbuffy).get()\r\n",
    "\r\n",
    "    return 1"
   ],
   "outputs": [],
   "metadata": {}
  },
  {
   "cell_type": "code",
   "execution_count": 33,
   "source": [
    "\r\n",
    "Aria(\"Hi everyone, I am Aria and I live on the east coast. It's really fun over here.\", \"cheerful\")\r\n",
    "transAria(\"Hi everyone, I am Aria and I live on the east cost. It's really fun over here\", \"cheerful\")\r\n",
    "\r\n"
   ],
   "outputs": [
    {
     "output_type": "stream",
     "name": "stdout",
     "text": [
      "<speak version=\"1.0\" xmlns=\"https://www.w3.org/2001/10/synthesis\" xmlns:mstts=\"https://www.w3.org/2001/mstts\"    xml:lang=\"en-US\"><voice name=\"en-US-AriaNeural\"><mstts:express-as  style=\"cheerful\">Hi everyone, I am Aria and I live on the east coast. It's really fun over here.</mstts:express-as></voice></speak>\n"
     ]
    },
    {
     "output_type": "execute_result",
     "data": {
      "text/plain": [
       "1"
      ]
     },
     "metadata": {},
     "execution_count": 33
    }
   ],
   "metadata": {}
  },
  {
   "cell_type": "code",
   "execution_count": 25,
   "source": [
    "\r\n",
    "\r\n",
    "Aria(\"I have soeme very important information to tell you\", \"customerservice\")\r\n",
    "transAria(\"I have soeme very important information to tell you\", \"newscast\")\r\n",
    "\r\n"
   ],
   "outputs": [
    {
     "output_type": "stream",
     "name": "stdout",
     "text": [
      "<speak version=\"1.0\" xmlns=\"https://www.w3.org/2001/10/synthesis\" xmlns:mstts=\"https://www.w3.org/2001/mstts\"    xml:lang=\"en-US\"><voice name=\"en-US-AriaNeural\"><mstts:express-as  style=\"customerservice\">I have soeme very important information to tell you</mstts:express-as></voice></speak>\n"
     ]
    },
    {
     "output_type": "execute_result",
     "data": {
      "text/plain": [
       "1"
      ]
     },
     "metadata": {},
     "execution_count": 25
    }
   ],
   "metadata": {}
  },
  {
   "cell_type": "code",
   "execution_count": 30,
   "source": [
    "\r\n",
    "Aria(\"I am feeling empathic today, but first please have a chat to my friend \", \"empathetic\")\r\n",
    "transAria(\"How are you doing? Hope your day is going well\", \"chat\")\r\n",
    "\r\n"
   ],
   "outputs": [
    {
     "output_type": "stream",
     "name": "stdout",
     "text": [
      "<speak version=\"1.0\" xmlns=\"https://www.w3.org/2001/10/synthesis\" xmlns:mstts=\"https://www.w3.org/2001/mstts\"    xml:lang=\"en-US\"><voice name=\"en-US-AriaNeural\"><mstts:express-as  style=\"empathetic\">I feeling empathic today, but please chat to my friend </mstts:express-as></voice></speak>\n"
     ]
    },
    {
     "output_type": "execute_result",
     "data": {
      "text/plain": [
       "1"
      ]
     },
     "metadata": {},
     "execution_count": 30
    }
   ],
   "metadata": {}
  },
  {
   "cell_type": "code",
   "execution_count": 38,
   "source": [
    "\r\n",
    "Aria(\"News just in, I have just accidentally broken my friends phone\", \"newscast-formal\")\r\n",
    "transAria(\"That was a very expensive phone! You are so clumsy! I am so angry now! Do you think you are funny?\", \"angry\")"
   ],
   "outputs": [
    {
     "output_type": "stream",
     "name": "stdout",
     "text": [
      "<speak version=\"1.0\" xmlns=\"https://www.w3.org/2001/10/synthesis\" xmlns:mstts=\"https://www.w3.org/2001/mstts\"    xml:lang=\"en-US\"><voice name=\"en-US-AriaNeural\"><mstts:express-as  style=\"newscast-formal\">News just in, I have just accidentally broken my friends phone</mstts:express-as></voice></speak>\n"
     ]
    },
    {
     "output_type": "execute_result",
     "data": {
      "text/plain": [
       "1"
      ]
     },
     "metadata": {},
     "execution_count": 38
    }
   ],
   "metadata": {}
  }
 ],
 "metadata": {
  "interpreter": {
   "hash": "57baa5815c940fdaff4d14510622de9616cae602444507ba5d0b6727c008cbd6"
  },
  "kernelspec": {
   "name": "python3",
   "display_name": "Python 3.7.8 64-bit"
  },
  "language_info": {
   "codemirror_mode": {
    "name": "ipython",
    "version": 3
   },
   "file_extension": ".py",
   "mimetype": "text/x-python",
   "name": "python",
   "nbconvert_exporter": "python",
   "pygments_lexer": "ipython3",
   "version": "3.7.8"
  },
  "orig_nbformat": 2
 },
 "nbformat": 4,
 "nbformat_minor": 2
}